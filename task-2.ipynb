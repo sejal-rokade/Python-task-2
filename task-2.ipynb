{
 "cells": [
  {
   "cell_type": "markdown",
   "id": "0770630d-3fe3-45c1-aadd-3579f2b8ae3a",
   "metadata": {},
   "source": [
    "#### capitalize() :\tConverts the first character of the word to upper case"
   ]
  },
  {
   "cell_type": "code",
   "execution_count": 2,
   "id": "fd5c24e5-d93a-4a99-84ed-0bc9a6732ffc",
   "metadata": {},
   "outputs": [
    {
     "name": "stdout",
     "output_type": "stream",
     "text": [
      "Sejal rokade\n"
     ]
    }
   ],
   "source": [
    "txt='sejal rokade'\n",
    "x=txt.capitalize()\n",
    "print(x)"
   ]
  },
  {
   "cell_type": "code",
   "execution_count": 12,
   "id": "85e0d3d2-a2f5-408e-afce-45658468a13d",
   "metadata": {},
   "outputs": [
    {
     "name": "stdout",
     "output_type": "stream",
     "text": [
      "Python\n"
     ]
    }
   ],
   "source": [
    "txt='python'\n",
    "x=txt.capitalize()\n",
    "print(x)"
   ]
  },
  {
   "cell_type": "markdown",
   "id": "9a6f3d38-36c6-48e4-9f6c-0c769f55464a",
   "metadata": {},
   "source": [
    "#### casefold()\t: Converts string into lower case"
   ]
  },
  {
   "cell_type": "code",
   "execution_count": 8,
   "id": "fa3fe948-3479-4f03-a511-02981bed6c0d",
   "metadata": {},
   "outputs": [
    {
     "name": "stdout",
     "output_type": "stream",
     "text": [
      "data analytics\n"
     ]
    }
   ],
   "source": [
    "txt='DATA ANALYTICS'\n",
    "x=txt.casefold()\n",
    "print(x)"
   ]
  },
  {
   "cell_type": "code",
   "execution_count": 10,
   "id": "0d0d9e01-551d-477d-bf1f-0e7720d40bf9",
   "metadata": {},
   "outputs": [
    {
     "name": "stdout",
     "output_type": "stream",
     "text": [
      "data analytics\n"
     ]
    }
   ],
   "source": [
    "txt='Data Analytics'\n",
    "x=txt.casefold()\n",
    "print(x)"
   ]
  },
  {
   "cell_type": "markdown",
   "id": "f50e78de-1ea7-434e-8da7-117220578367",
   "metadata": {},
   "source": [
    "#### center() : Returns a centered string"
   ]
  },
  {
   "cell_type": "code",
   "execution_count": 21,
   "id": "daf6ab72-92ee-402f-b2ba-fe4f700f0caf",
   "metadata": {},
   "outputs": [
    {
     "name": "stdout",
     "output_type": "stream",
     "text": [
      "Da-9 python\n"
     ]
    }
   ],
   "source": [
    "txt='Da-9 python'\n",
    "x=txt.center(10)\n",
    "print(x)"
   ]
  },
  {
   "cell_type": "code",
   "execution_count": 27,
   "id": "05f3ba0b-4e45-4163-ad15-05ac2fc921c4",
   "metadata": {},
   "outputs": [
    {
     "name": "stdout",
     "output_type": "stream",
     "text": [
      "   ARC    \n"
     ]
    }
   ],
   "source": [
    "txt='ARC'\n",
    "x=txt.center(10)\n",
    "print(x)"
   ]
  },
  {
   "cell_type": "markdown",
   "id": "0ece9a05-20eb-4da0-a357-925e042e5b9c",
   "metadata": {},
   "source": [
    "#### count() : Returns the number of times a specified value occurs in a string"
   ]
  },
  {
   "cell_type": "code",
   "execution_count": 34,
   "id": "4d938843-5ca3-450d-95cd-bee9eec476a6",
   "metadata": {},
   "outputs": [
    {
     "name": "stdout",
     "output_type": "stream",
     "text": [
      "1\n"
     ]
    }
   ],
   "source": [
    "txt='ARC Institute'\n",
    "x=txt.count('Institute')\n",
    "print(x)"
   ]
  },
  {
   "cell_type": "code",
   "execution_count": 36,
   "id": "7e30e660-8079-4d8e-ab1c-5d7ee197d8eb",
   "metadata": {},
   "outputs": [
    {
     "name": "stdout",
     "output_type": "stream",
     "text": [
      "2\n"
     ]
    }
   ],
   "source": [
    "txt='I like python and I like sql'\n",
    "x=txt.count('I')\n",
    "print(x)"
   ]
  },
  {
   "cell_type": "markdown",
   "id": "dce1a5cd-51e2-4c6a-96ea-1c0f8bfd5305",
   "metadata": {},
   "source": [
    "#### encode() : Returns an encoded version of the string"
   ]
  },
  {
   "cell_type": "code",
   "execution_count": 41,
   "id": "c22d30b5-de87-4bef-a572-52570fb2bdc8",
   "metadata": {},
   "outputs": [
    {
     "name": "stdout",
     "output_type": "stream",
     "text": [
      "b'jupyter notebook'\n"
     ]
    }
   ],
   "source": [
    "txt='jupyter notebook'\n",
    "x=txt.encode()\n",
    "print(x)"
   ]
  },
  {
   "cell_type": "code",
   "execution_count": 43,
   "id": "d3dd4a34-6d32-4dc3-b064-ac08325c319d",
   "metadata": {},
   "outputs": [
    {
     "name": "stdout",
     "output_type": "stream",
     "text": [
      "b'python'\n"
     ]
    }
   ],
   "source": [
    "txt='python'\n",
    "x=txt.encode()\n",
    "print(x)"
   ]
  },
  {
   "cell_type": "markdown",
   "id": "eb607db7-68d5-4c9d-ba1c-1aa16e99eae9",
   "metadata": {},
   "source": [
    "#### endswith() : Returns true if the string ends with the specified value"
   ]
  },
  {
   "cell_type": "code",
   "execution_count": 50,
   "id": "d91caaa1-bb47-4223-9dfe-82160f18cc35",
   "metadata": {},
   "outputs": [
    {
     "name": "stdout",
     "output_type": "stream",
     "text": [
      "False\n"
     ]
    }
   ],
   "source": [
    "txt='How are you'\n",
    "x=txt.endswith('?')\n",
    "print(x)"
   ]
  },
  {
   "cell_type": "code",
   "execution_count": 52,
   "id": "a8d9ab65-1c72-4557-88ee-ccb94f57e8ea",
   "metadata": {},
   "outputs": [
    {
     "name": "stdout",
     "output_type": "stream",
     "text": [
      "True\n"
     ]
    }
   ],
   "source": [
    "txt='Wow !'\n",
    "x=txt.endswith('!')\n",
    "print(x)"
   ]
  },
  {
   "cell_type": "markdown",
   "id": "389d440c-73ce-4e1c-bd91-ac1ff2d5cd68",
   "metadata": {},
   "source": [
    "#### find(): Searches the string for a specified value and returns the position of where it was found"
   ]
  },
  {
   "cell_type": "code",
   "execution_count": 68,
   "id": "3d623954-62ae-4f27-98c3-c1a98e5ebbfd",
   "metadata": {},
   "outputs": [
    {
     "name": "stdout",
     "output_type": "stream",
     "text": [
      "4\n"
     ]
    }
   ],
   "source": [
    "txt='Arc Data Analytics Python'\n",
    "x=txt.find('Data')\n",
    "print(x)"
   ]
  },
  {
   "cell_type": "code",
   "execution_count": 70,
   "id": "68a56e2f-18c5-4a51-9b8b-883c3def85bb",
   "metadata": {},
   "outputs": [
    {
     "name": "stdout",
     "output_type": "stream",
     "text": [
      "6\n"
     ]
    }
   ],
   "source": [
    "txt='power bi'\n",
    "x=txt.find('bi')\n",
    "print(x)"
   ]
  },
  {
   "cell_type": "markdown",
   "id": "ca361dd6-a4f3-4a20-b5e1-d4dcb10d41cd",
   "metadata": {},
   "source": [
    "#### isalnum() :Returns True if all characters in the string are alphanumeric"
   ]
  },
  {
   "cell_type": "code",
   "execution_count": 4,
   "id": "8b17810e-8bc6-458e-ac3c-7101dd54b065",
   "metadata": {},
   "outputs": [
    {
     "name": "stdout",
     "output_type": "stream",
     "text": [
      "False\n"
     ]
    }
   ],
   "source": [
    "txt='power bi'\n",
    "x=txt.isalnum()\n",
    "print(x)"
   ]
  },
  {
   "cell_type": "code",
   "execution_count": 6,
   "id": "7dc231f5-e59d-44ad-8dfb-bd3921d8797f",
   "metadata": {},
   "outputs": [
    {
     "name": "stdout",
     "output_type": "stream",
     "text": [
      "True\n"
     ]
    }
   ],
   "source": [
    "txt='234556'\n",
    "x=txt.isalnum()\n",
    "print(x)"
   ]
  },
  {
   "cell_type": "markdown",
   "id": "3054d420-96da-4a9c-8db3-cae35c162d70",
   "metadata": {},
   "source": [
    "#### isalpha() :Returns True if all characters in the string are in the alphabet"
   ]
  },
  {
   "cell_type": "code",
   "execution_count": 11,
   "id": "da3bcbe9-c1f6-4c08-a3d8-cb776a2a2dd6",
   "metadata": {},
   "outputs": [
    {
     "name": "stdout",
     "output_type": "stream",
     "text": [
      "True\n"
     ]
    }
   ],
   "source": [
    "txt='data'\n",
    "x=txt.isalpha()\n",
    "print(x)"
   ]
  },
  {
   "cell_type": "code",
   "execution_count": 9,
   "id": "299457dc-9eb2-4b3f-b838-429e19f887ac",
   "metadata": {},
   "outputs": [
    {
     "name": "stdout",
     "output_type": "stream",
     "text": [
      "False\n"
     ]
    }
   ],
   "source": [
    "txt='234556'\n",
    "x=txt.isalpha()\n",
    "print(x)"
   ]
  },
  {
   "cell_type": "markdown",
   "id": "e2ba54b3-5e04-439e-bf3a-293457d8f04c",
   "metadata": {},
   "source": [
    "#### isascii() : Returns True if all characters in the string are ascii characters"
   ]
  },
  {
   "cell_type": "code",
   "execution_count": 14,
   "id": "eed6998d-43b3-4aad-8de3-852c435d60e4",
   "metadata": {},
   "outputs": [
    {
     "name": "stdout",
     "output_type": "stream",
     "text": [
      "True\n"
     ]
    }
   ],
   "source": [
    "txt='data123'\n",
    "x=txt.isascii()\n",
    "print(x)"
   ]
  },
  {
   "cell_type": "code",
   "execution_count": 18,
   "id": "fb97a985-c976-4717-b82c-2fad92ead38c",
   "metadata": {},
   "outputs": [
    {
     "name": "stdout",
     "output_type": "stream",
     "text": [
      "True\n"
     ]
    }
   ],
   "source": [
    "txt='python'\n",
    "x=txt.isascii()\n",
    "print(x)"
   ]
  },
  {
   "cell_type": "markdown",
   "id": "ab169e05-fde1-4352-ad21-1e00d66ebf21",
   "metadata": {},
   "source": [
    "#### isprintable() : Returns True if all characters in the string are printable"
   ]
  },
  {
   "cell_type": "code",
   "execution_count": 37,
   "id": "84c44b74-855f-4d70-b770-ca1a130c1845",
   "metadata": {},
   "outputs": [
    {
     "name": "stdout",
     "output_type": "stream",
     "text": [
      "True\n"
     ]
    }
   ],
   "source": [
    "txt='python'\n",
    "x=txt.isprintable()\n",
    "print(x)"
   ]
  },
  {
   "cell_type": "code",
   "execution_count": 39,
   "id": "3c6e0654-5ed6-44a4-8d77-3fad233da6d3",
   "metadata": {},
   "outputs": [
    {
     "name": "stdout",
     "output_type": "stream",
     "text": [
      "True\n"
     ]
    }
   ],
   "source": [
    "txt='ARC##%%78'\n",
    "x=txt.isascii()\n",
    "print(x)"
   ]
  },
  {
   "cell_type": "markdown",
   "id": "05dafe80-4941-4c75-a6fb-88e87284cc15",
   "metadata": {},
   "source": [
    "#### join() : Converts the elements of an iterable into a string"
   ]
  },
  {
   "cell_type": "code",
   "execution_count": 48,
   "id": "abe7e68f-4c6a-4af4-b6e4-4b7842cecc65",
   "metadata": {},
   "outputs": [
    {
     "name": "stdout",
     "output_type": "stream",
     "text": [
      "apple-mango-grapes\n"
     ]
    }
   ],
   "source": [
    "A=('apple','mango','grapes')\n",
    "x='-'.join(A)\n",
    "print(x)"
   ]
  },
  {
   "cell_type": "code",
   "execution_count": 50,
   "id": "a0868ffd-9153-4e5c-8f8f-e1d0244e7d9c",
   "metadata": {},
   "outputs": [
    {
     "name": "stdout",
     "output_type": "stream",
     "text": [
      "1,2,3\n"
     ]
    }
   ],
   "source": [
    "A=('1''2''3')\n",
    "x=','.join(A)\n",
    "print(x)"
   ]
  },
  {
   "cell_type": "markdown",
   "id": "815410d9-163e-4cac-a5b2-389b922b646c",
   "metadata": {},
   "source": [
    "#### ljust() : Returns a left justified version of the string"
   ]
  },
  {
   "cell_type": "code",
   "execution_count": 53,
   "id": "2b240547-a747-4af2-b459-00b37d49f89b",
   "metadata": {},
   "outputs": [
    {
     "name": "stdout",
     "output_type": "stream",
     "text": [
      "Arc   Data Analytics\n"
     ]
    }
   ],
   "source": [
    "txt='Arc'\n",
    "x=txt.ljust(5)\n",
    "print(x, 'Data Analytics')"
   ]
  },
  {
   "cell_type": "code",
   "execution_count": 55,
   "id": "3f8a726f-68ed-4935-be6e-6e90f073832b",
   "metadata": {},
   "outputs": [
    {
     "name": "stdout",
     "output_type": "stream",
     "text": [
      "Da-9                           Python\n"
     ]
    }
   ],
   "source": [
    "txt='Da-9'\n",
    "x=txt.ljust(30)\n",
    "print(x, 'Python')"
   ]
  },
  {
   "cell_type": "markdown",
   "id": "e4742260-045a-408b-b9ab-a9d05239c24c",
   "metadata": {},
   "source": [
    "#### replace() :,Returns a string where a specified value is replaced with a specified value"
   ]
  },
  {
   "cell_type": "code",
   "execution_count": 58,
   "id": "f60fa47c-fd60-45e3-8d5e-169856226b64",
   "metadata": {},
   "outputs": [
    {
     "name": "stdout",
     "output_type": "stream",
     "text": [
      "Python language\n"
     ]
    }
   ],
   "source": [
    "txt='SQL language'\n",
    "x=txt.replace('SQL','Python')\n",
    "print(x)"
   ]
  },
  {
   "cell_type": "code",
   "execution_count": 60,
   "id": "b4aaab4d-ea60-4399-8df4-6fa957465f3c",
   "metadata": {},
   "outputs": [
    {
     "name": "stdout",
     "output_type": "stream",
     "text": [
      "Customer\n"
     ]
    }
   ],
   "source": [
    "txt='Product'\n",
    "x=txt.replace('Product','Customer')\n",
    "print(x)"
   ]
  },
  {
   "cell_type": "markdown",
   "id": "7e37c45d-254d-4012-ae51-3fcec3e70255",
   "metadata": {},
   "source": [
    "#### sort() : Sorts the list"
   ]
  },
  {
   "cell_type": "code",
   "execution_count": 77,
   "id": "8cc8c152-4665-4386-9280-8e2c599648f1",
   "metadata": {},
   "outputs": [
    {
     "name": "stdout",
     "output_type": "stream",
     "text": [
      "['grapes', 'mango', 'watermelon']\n"
     ]
    }
   ],
   "source": [
    "A=['watermelon','mango','grapes']\n",
    "A.sort()\n",
    "print(A)"
   ]
  },
  {
   "cell_type": "code",
   "execution_count": 81,
   "id": "69f11990-096a-4041-8bc4-784f761a479b",
   "metadata": {},
   "outputs": [
    {
     "name": "stdout",
     "output_type": "stream",
     "text": [
      "['45', '78', '99']\n"
     ]
    }
   ],
   "source": [
    "A=['99','78','45']\n",
    "A.sort()\n",
    "print(A)"
   ]
  },
  {
   "cell_type": "markdown",
   "id": "74b6a1e7-0651-4a46-9fea-209bdeb67ee6",
   "metadata": {},
   "source": [
    "#### reverse() : Reverses the order of the list"
   ]
  },
  {
   "cell_type": "code",
   "execution_count": 86,
   "id": "94be213b-bcff-4c75-8962-bd91f431aa14",
   "metadata": {},
   "outputs": [
    {
     "name": "stdout",
     "output_type": "stream",
     "text": [
      "['55', '77', '99']\n"
     ]
    }
   ],
   "source": [
    "A=['99','77','55']\n",
    "A.reverse()\n",
    "print(A)"
   ]
  },
  {
   "cell_type": "code",
   "execution_count": 88,
   "id": "3c6c0d8b-95dc-4057-9691-33d69ccc9b4a",
   "metadata": {},
   "outputs": [
    {
     "name": "stdout",
     "output_type": "stream",
     "text": [
      "['grapes', 'lemon', 'orange']\n"
     ]
    }
   ],
   "source": [
    "A=['orange','lemon','grapes']\n",
    "A.sort()\n",
    "print(A)"
   ]
  }
 ],
 "metadata": {
  "kernelspec": {
   "display_name": "Python 3 (ipykernel)",
   "language": "python",
   "name": "python3"
  },
  "language_info": {
   "codemirror_mode": {
    "name": "ipython",
    "version": 3
   },
   "file_extension": ".py",
   "mimetype": "text/x-python",
   "name": "python",
   "nbconvert_exporter": "python",
   "pygments_lexer": "ipython3",
   "version": "3.12.4"
  }
 },
 "nbformat": 4,
 "nbformat_minor": 5
}
